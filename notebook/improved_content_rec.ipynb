{
 "cells": [
  {
   "cell_type": "code",
   "execution_count": 64,
   "metadata": {},
   "outputs": [],
   "source": [
    "import pandas as pd\n",
    "import numpy as np\n",
    "from ast import literal_eval\n",
    "from nltk.stem.snowball import SnowballStemmer\n",
    "from sklearn.metrics.pairwise import linear_kernel, cosine_similarity\n",
    "from sklearn.feature_extraction.text import CountVectorizer"
   ]
  },
  {
   "cell_type": "code",
   "execution_count": 65,
   "metadata": {},
   "outputs": [],
   "source": [
    "md = pd.read_csv('/Users/ayushsingh/Desktop/Movie-Reco/data/movies_metadata.csv')"
   ]
  },
  {
   "cell_type": "code",
   "execution_count": 68,
   "metadata": {},
   "outputs": [],
   "source": [
    "credits = pd.read_csv('/Users/ayushsingh/Desktop/Movie-Reco/data/credits.csv')\n",
    "keywords = pd.read_csv('/Users/ayushsingh/Desktop/Movie-Reco/data/keywords.csv')"
   ]
  },
  {
   "cell_type": "code",
   "execution_count": 69,
   "metadata": {},
   "outputs": [],
   "source": [
    "md['genres'] = md['genres'].fillna('[]').apply(literal_eval).apply(lambda x: [i['name'] for i in x] if isinstance(x, list) else [])\n",
    "md = md.drop([19730, 29503, 35587])\n",
    "md['year'] = pd.to_datetime(md['release_date'], errors='coerce').apply(lambda x: str(x).split('-')[0] if x != np.nan else np.nan)"
   ]
  },
  {
   "cell_type": "code",
   "execution_count": 71,
   "metadata": {},
   "outputs": [],
   "source": [
    "keywords['id'] = keywords['id'].astype('int')\n",
    "credits['id'] = credits['id'].astype('int')\n",
    "md['id'] = md['id'].astype('int')"
   ]
  },
  {
   "cell_type": "code",
   "execution_count": 72,
   "metadata": {},
   "outputs": [],
   "source": [
    "md = md.merge(credits, on='id')\n",
    "md = md.merge(keywords, on='id')"
   ]
  },
  {
   "cell_type": "code",
   "execution_count": 74,
   "metadata": {},
   "outputs": [],
   "source": [
    "md['cast'] = md['cast'].apply(literal_eval)\n",
    "md['crew'] = md['crew'].apply(literal_eval)\n",
    "md['keywords'] = md['keywords'].apply(literal_eval)\n",
    "md['cast_size'] = md['cast'].apply(lambda x: len(x))\n",
    "md['crew_size'] = md['crew'].apply(lambda x: len(x))"
   ]
  },
  {
   "cell_type": "code",
   "execution_count": 81,
   "metadata": {},
   "outputs": [],
   "source": [
    "def get_director(x):\n",
    "    for i in x:\n",
    "        if i['job'] == 'Director':\n",
    "            return i['name']\n",
    "    return np.nan"
   ]
  },
  {
   "cell_type": "code",
   "execution_count": 82,
   "metadata": {},
   "outputs": [],
   "source": [
    "md['director'] = md['crew'].apply(get_director)"
   ]
  },
  {
   "cell_type": "code",
   "execution_count": 84,
   "metadata": {},
   "outputs": [],
   "source": [
    "md['cast'] = md['cast'].apply(lambda x: [i['name'] for i in x] if isinstance(x, list) else [])\n",
    "md['cast'] = md['cast'].apply(lambda x: x[:3] if len(x) >=3 else x)\n",
    "\n",
    "md['keywords'] = md['keywords'].apply(lambda x: [i['name'] for i in x] if isinstance(x, list) else [])\n",
    "\n",
    "md['cast'] = md['cast'].apply(lambda x: [str.lower(i.replace(\" \", \"\")) for i in x])\n",
    "\n",
    "md['director'] = md['director'].astype('str').apply(lambda x: str.lower(x.replace(\" \", \"\")))\n",
    "md['director'] = md['director'].apply(lambda x: [x,x, x])"
   ]
  },
  {
   "cell_type": "code",
   "execution_count": 91,
   "metadata": {},
   "outputs": [],
   "source": [
    "s = md.apply(lambda x: pd.Series(x['keywords']),axis=1).stack().reset_index(level=1, drop=True)\n",
    "s.name = 'keyword'\n",
    "\n",
    "s = s.value_counts()\n",
    "s = s[s > 1]"
   ]
  },
  {
   "cell_type": "code",
   "execution_count": 94,
   "metadata": {},
   "outputs": [
    {
     "data": {
      "text/plain": [
       "'dog'"
      ]
     },
     "execution_count": 94,
     "metadata": {},
     "output_type": "execute_result"
    }
   ],
   "source": [
    "stemmer = SnowballStemmer('english')\n",
    "stemmer.stem('dogs')"
   ]
  },
  {
   "cell_type": "code",
   "execution_count": 95,
   "metadata": {},
   "outputs": [],
   "source": [
    "def filter_keywords(x):\n",
    "    words = []\n",
    "    for i in x:\n",
    "        if i in s:\n",
    "            words.append(i)\n",
    "    return words"
   ]
  },
  {
   "cell_type": "code",
   "execution_count": 96,
   "metadata": {},
   "outputs": [],
   "source": [
    "md['keywords'] = md['keywords'].apply(filter_keywords)\n",
    "md['keywords'] = md['keywords'].apply(lambda x: [stemmer.stem(i) for i in x])\n",
    "md['keywords'] = md['keywords'].apply(lambda x: [str.lower(i.replace(\" \", \"\")) for i in x])"
   ]
  },
  {
   "cell_type": "code",
   "execution_count": 98,
   "metadata": {},
   "outputs": [],
   "source": [
    "md['soup'] = md['keywords'] + md['cast'] + md['director'] + md['genres']\n",
    "md['soup'] = md['soup'].apply(lambda x: ' '.join(x))"
   ]
  },
  {
   "cell_type": "code",
   "execution_count": 155,
   "metadata": {},
   "outputs": [],
   "source": [
    "count = CountVectorizer(analyzer='word',ngram_range=(1, 2),min_df=0, stop_words='english')\n",
    "count_matrix = count.fit_transform(md['soup'])"
   ]
  },
  {
   "cell_type": "code",
   "execution_count": 165,
   "metadata": {},
   "outputs": [],
   "source": [
    "#cosine_sim = cosine_similarity(count_matrix)"
   ]
  },
  {
   "cell_type": "code",
   "execution_count": 135,
   "metadata": {},
   "outputs": [],
   "source": [
    "md = md.reset_index()\n",
    "titles = md['title']\n",
    "indices = pd.Series(md.index, index=md['title'])"
   ]
  },
  {
   "cell_type": "code",
   "execution_count": 199,
   "metadata": {},
   "outputs": [
    {
     "data": {
      "text/plain": [
       "'Content Filtering results without taking IMDB votings into account'"
      ]
     },
     "execution_count": 199,
     "metadata": {},
     "output_type": "execute_result"
    }
   ],
   "source": [
    "'''Content Filtering results without taking IMDB votings into account'''\n",
    "# def get_recommendations(title):\n",
    "#     idx = indices[title]\n",
    "#     cosine_sim = linear_kernel(count_matrix[idx], count_matrix)\n",
    "#     sim_scores = list(enumerate(cosine_sim[0]))\n",
    "#     sim_scores = sorted(sim_scores, key=lambda x: x[1], reverse=True)\n",
    "#     sim_scores = sim_scores[1:31]\n",
    "#     movie_indices = [i[0] for i in sim_scores]\n",
    "#     return titles.iloc[movie_indices]\n",
    "\n",
    "# get_recommendations('Inception').head(10)"
   ]
  },
  {
   "cell_type": "code",
   "execution_count": 187,
   "metadata": {},
   "outputs": [
    {
     "data": {
      "text/plain": [
       "5.238696808510638"
      ]
     },
     "execution_count": 187,
     "metadata": {},
     "output_type": "execute_result"
    }
   ],
   "source": [
    "vote_counts = md[md['vote_count'].notnull()]['vote_count'].astype('int')\n",
    "vote_averages = md[md['vote_average'].notnull()]['vote_average'].astype('int')\n",
    "C = vote_averages.mean()\n",
    "C"
   ]
  },
  {
   "cell_type": "code",
   "execution_count": 267,
   "metadata": {},
   "outputs": [],
   "source": [
    "sim_movie_list = {}"
   ]
  },
  {
   "cell_type": "code",
   "execution_count": 268,
   "metadata": {},
   "outputs": [],
   "source": [
    "def cosine_sim(count_matrix, idx, title):\n",
    "    if(title in sim_movie_list):\n",
    "        #print('call from here')\n",
    "        return sim_movie_list[title]\n",
    "    else:\n",
    "        cosine_sim = linear_kernel(count_matrix[idx], count_matrix)\n",
    "        sim_movie_list[title]= cosine_sim[0]\n",
    "        return cosine_sim[0]\n",
    "\n",
    "def improved_recommendations(title):\n",
    "    idx = indices[title]\n",
    "    \n",
    "    sim_scores = list(enumerate(cosine_sim(count_matrix, idx, title)))\n",
    "    \n",
    "    sim_scores = sorted(sim_scores, key=lambda x: x[1], reverse=True)\n",
    "    sim_scores = sim_scores[1:26]\n",
    "    movie_indices = [i[0] for i in sim_scores]\n",
    "    \n",
    "    movies = md.iloc[movie_indices][['title', 'vote_count', 'vote_average', 'year']]\n",
    "    vote_counts = movies[movies['vote_count'].notnull()]['vote_count'].astype('int')\n",
    "    vote_averages = movies[movies['vote_average'].notnull()]['vote_average'].astype('int')\n",
    "    C = vote_averages.mean()\n",
    "    m = vote_counts.quantile(0.50)\n",
    "    qualified = movies[(movies['vote_count'] >= m) & (movies['vote_count'].notnull()) & (movies['vote_average'].notnull())]\n",
    "    qualified['vote_count'] = qualified['vote_count'].astype('int')\n",
    "    qualified['vote_average'] = qualified['vote_average'].astype('int')\n",
    "    qualified['wr'] = qualified.apply(weighted_rating, axis=1)\n",
    "    qualified = qualified.sort_values('wr', ascending=False).head(10)\n",
    "    return qualified\n",
    "\n",
    "def weighted_rating(x):\n",
    "    m = vote_counts.quantile(0.60)\n",
    "    v = x['vote_count']\n",
    "    R = x['vote_average']\n",
    "    return (v/(v+m) * R) + (m/(m+v) * C)"
   ]
  },
  {
   "cell_type": "code",
   "execution_count": 275,
   "metadata": {},
   "outputs": [
    {
     "name": "stdout",
     "output_type": "stream",
     "text": [
      "call from here\n"
     ]
    },
    {
     "name": "stderr",
     "output_type": "stream",
     "text": [
      "/usr/local/lib/python3.7/site-packages/ipykernel_launcher.py:25: SettingWithCopyWarning: \n",
      "A value is trying to be set on a copy of a slice from a DataFrame.\n",
      "Try using .loc[row_indexer,col_indexer] = value instead\n",
      "\n",
      "See the caveats in the documentation: http://pandas.pydata.org/pandas-docs/stable/indexing.html#indexing-view-versus-copy\n",
      "/usr/local/lib/python3.7/site-packages/ipykernel_launcher.py:26: SettingWithCopyWarning: \n",
      "A value is trying to be set on a copy of a slice from a DataFrame.\n",
      "Try using .loc[row_indexer,col_indexer] = value instead\n",
      "\n",
      "See the caveats in the documentation: http://pandas.pydata.org/pandas-docs/stable/indexing.html#indexing-view-versus-copy\n",
      "/usr/local/lib/python3.7/site-packages/ipykernel_launcher.py:27: SettingWithCopyWarning: \n",
      "A value is trying to be set on a copy of a slice from a DataFrame.\n",
      "Try using .loc[row_indexer,col_indexer] = value instead\n",
      "\n",
      "See the caveats in the documentation: http://pandas.pydata.org/pandas-docs/stable/indexing.html#indexing-view-versus-copy\n"
     ]
    },
    {
     "data": {
      "text/html": [
       "<div>\n",
       "<style scoped>\n",
       "    .dataframe tbody tr th:only-of-type {\n",
       "        vertical-align: middle;\n",
       "    }\n",
       "\n",
       "    .dataframe tbody tr th {\n",
       "        vertical-align: top;\n",
       "    }\n",
       "\n",
       "    .dataframe thead th {\n",
       "        text-align: right;\n",
       "    }\n",
       "</style>\n",
       "<table border=\"1\" class=\"dataframe\">\n",
       "  <thead>\n",
       "    <tr style=\"text-align: right;\">\n",
       "      <th></th>\n",
       "      <th>title</th>\n",
       "      <th>vote_count</th>\n",
       "      <th>vote_average</th>\n",
       "      <th>year</th>\n",
       "      <th>wr</th>\n",
       "    </tr>\n",
       "  </thead>\n",
       "  <tbody>\n",
       "    <tr>\n",
       "      <th>12589</th>\n",
       "      <td>The Dark Knight</td>\n",
       "      <td>12269</td>\n",
       "      <td>8</td>\n",
       "      <td>2008</td>\n",
       "      <td>7.996628</td>\n",
       "    </tr>\n",
       "    <tr>\n",
       "      <th>23076</th>\n",
       "      <td>Interstellar</td>\n",
       "      <td>11187</td>\n",
       "      <td>8</td>\n",
       "      <td>2014</td>\n",
       "      <td>7.996302</td>\n",
       "    </tr>\n",
       "    <tr>\n",
       "      <th>11463</th>\n",
       "      <td>The Prestige</td>\n",
       "      <td>4510</td>\n",
       "      <td>8</td>\n",
       "      <td>2006</td>\n",
       "      <td>7.990847</td>\n",
       "    </tr>\n",
       "    <tr>\n",
       "      <th>4126</th>\n",
       "      <td>Memento</td>\n",
       "      <td>4168</td>\n",
       "      <td>8</td>\n",
       "      <td>2000</td>\n",
       "      <td>7.990098</td>\n",
       "    </tr>\n",
       "    <tr>\n",
       "      <th>18442</th>\n",
       "      <td>The Dark Knight Rises</td>\n",
       "      <td>9263</td>\n",
       "      <td>7</td>\n",
       "      <td>2012</td>\n",
       "      <td>6.997152</td>\n",
       "    </tr>\n",
       "    <tr>\n",
       "      <th>10210</th>\n",
       "      <td>Batman Begins</td>\n",
       "      <td>7511</td>\n",
       "      <td>7</td>\n",
       "      <td>2005</td>\n",
       "      <td>6.996490</td>\n",
       "    </tr>\n",
       "    <tr>\n",
       "      <th>1481</th>\n",
       "      <td>The Fifth Element</td>\n",
       "      <td>3962</td>\n",
       "      <td>7</td>\n",
       "      <td>1997</td>\n",
       "      <td>6.993357</td>\n",
       "    </tr>\n",
       "    <tr>\n",
       "      <th>45843</th>\n",
       "      <td>Dunkirk</td>\n",
       "      <td>2712</td>\n",
       "      <td>7</td>\n",
       "      <td>2017</td>\n",
       "      <td>6.990312</td>\n",
       "    </tr>\n",
       "    <tr>\n",
       "      <th>5359</th>\n",
       "      <td>Minority Report</td>\n",
       "      <td>2663</td>\n",
       "      <td>7</td>\n",
       "      <td>2002</td>\n",
       "      <td>6.990135</td>\n",
       "    </tr>\n",
       "    <tr>\n",
       "      <th>19584</th>\n",
       "      <td>Looper</td>\n",
       "      <td>4777</td>\n",
       "      <td>6</td>\n",
       "      <td>2012</td>\n",
       "      <td>5.997617</td>\n",
       "    </tr>\n",
       "  </tbody>\n",
       "</table>\n",
       "</div>"
      ],
      "text/plain": [
       "                       title  vote_count  vote_average  year        wr\n",
       "12589        The Dark Knight       12269             8  2008  7.996628\n",
       "23076           Interstellar       11187             8  2014  7.996302\n",
       "11463           The Prestige        4510             8  2006  7.990847\n",
       "4126                 Memento        4168             8  2000  7.990098\n",
       "18442  The Dark Knight Rises        9263             7  2012  6.997152\n",
       "10210          Batman Begins        7511             7  2005  6.996490\n",
       "1481       The Fifth Element        3962             7  1997  6.993357\n",
       "45843                Dunkirk        2712             7  2017  6.990312\n",
       "5359         Minority Report        2663             7  2002  6.990135\n",
       "19584                 Looper        4777             6  2012  5.997617"
      ]
     },
     "execution_count": 275,
     "metadata": {},
     "output_type": "execute_result"
    }
   ],
   "source": [
    "improved_recommendations('Inception')"
   ]
  }
 ],
 "metadata": {
  "kernelspec": {
   "display_name": "Python 3",
   "language": "python",
   "name": "python3"
  },
  "language_info": {
   "codemirror_mode": {
    "name": "ipython",
    "version": 3
   },
   "file_extension": ".py",
   "mimetype": "text/x-python",
   "name": "python",
   "nbconvert_exporter": "python",
   "pygments_lexer": "ipython3",
   "version": "3.7.4"
  }
 },
 "nbformat": 4,
 "nbformat_minor": 2
}
