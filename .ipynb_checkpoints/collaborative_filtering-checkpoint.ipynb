{
 "cells": [
  {
   "cell_type": "code",
   "execution_count": 1,
   "metadata": {},
   "outputs": [],
   "source": [
    "import pandas as pd\n",
    "import numpy as np\n",
    "import logging\n",
    "import sys\n",
    "from time import time\n",
    "import pickle\n",
    "import re\n",
    "from pandas.io.json import json_normalize\n",
    "import json\n",
    "\n",
    "from sklearn.utils.extmath import randomized_svd\n",
    "\n",
    "from scipy import sparse\n",
    "from scipy.sparse.linalg import svds\n",
    "\n",
    "from collections import defaultdict\n",
    "from collections import Counter\n",
    "import math"
   ]
  },
  {
   "cell_type": "code",
   "execution_count": 2,
   "metadata": {},
   "outputs": [],
   "source": [
    "from surprise import SVD, accuracy\n",
    "from surprise.model_selection import cross_validate, train_test_split\n",
    "from surprise import Dataset\n",
    "from surprise import Reader\n",
    "from surprise.prediction_algorithms.knns import KNNWithZScore, KNNBaseline\n",
    "from surprise.prediction_algorithms.matrix_factorization import NMF"
   ]
  },
  {
   "cell_type": "code",
   "execution_count": 3,
   "metadata": {},
   "outputs": [],
   "source": [
    "def convert_ids(ids_in_csv):\n",
    "    return pd.to_numeric(ids_in_csv, errors='coerce').astype('int64')\n",
    "\n",
    "def convert_to_float(ids_in_csv):\n",
    "    return pd.to_numeric(ids_in_csv, errors='coerce').astype('float64')\n",
    "\n",
    "def to_json(csv_entry):\n",
    "    return json.loads(re.sub('\\'', '\"', csv_entry))"
   ]
  },
  {
   "cell_type": "code",
   "execution_count": 5,
   "metadata": {},
   "outputs": [],
   "source": [
    "#movies_df has all the metadata of the movies and ratings_df has ratings given by user to movies\n",
    "\n",
    "movies_df = pd.read_csv('./data/movies_metadata.csv'\n",
    "                        , converters={'id': lambda x: convert_ids(x), 'imdb_id': lambda x: convert_ids(x)}\n",
    "                       ,usecols=['id', 'original_title', 'budget', 'genres','spoken_languages', 'title'])\n",
    "movies_df.drop_duplicates(subset =\"id\", \n",
    "                     keep = 'first', inplace = True)\n",
    "ratings_df = pd.read_csv('./data/ratings_small.csv')"
   ]
  },
  {
   "cell_type": "code",
   "execution_count": 6,
   "metadata": {},
   "outputs": [],
   "source": [
    "###May need Fuzzy matching, but for now:\n",
    "# Do not know if this is actually required\n",
    "movies_df = movies_df[movies_df.spoken_languages == \"\"\"[{'iso_639_1': 'en', 'name': 'English'}]\"\"\"]"
   ]
  },
  {
   "cell_type": "code",
   "execution_count": 7,
   "metadata": {
    "jupyter": {
     "outputs_hidden": true
    }
   },
   "outputs": [
    {
     "data": {
      "text/html": [
       "<div>\n",
       "<style scoped>\n",
       "    .dataframe tbody tr th:only-of-type {\n",
       "        vertical-align: middle;\n",
       "    }\n",
       "\n",
       "    .dataframe tbody tr th {\n",
       "        vertical-align: top;\n",
       "    }\n",
       "\n",
       "    .dataframe thead th {\n",
       "        text-align: right;\n",
       "    }\n",
       "</style>\n",
       "<table border=\"1\" class=\"dataframe\">\n",
       "  <thead>\n",
       "    <tr style=\"text-align: right;\">\n",
       "      <th></th>\n",
       "      <th>userId</th>\n",
       "      <th>movieId</th>\n",
       "      <th>rating</th>\n",
       "      <th>timestamp</th>\n",
       "    </tr>\n",
       "  </thead>\n",
       "  <tbody>\n",
       "    <tr>\n",
       "      <th>0</th>\n",
       "      <td>1</td>\n",
       "      <td>31</td>\n",
       "      <td>2.5</td>\n",
       "      <td>1260759144</td>\n",
       "    </tr>\n",
       "    <tr>\n",
       "      <th>1</th>\n",
       "      <td>1</td>\n",
       "      <td>1029</td>\n",
       "      <td>3.0</td>\n",
       "      <td>1260759179</td>\n",
       "    </tr>\n",
       "    <tr>\n",
       "      <th>2</th>\n",
       "      <td>1</td>\n",
       "      <td>1061</td>\n",
       "      <td>3.0</td>\n",
       "      <td>1260759182</td>\n",
       "    </tr>\n",
       "    <tr>\n",
       "      <th>3</th>\n",
       "      <td>1</td>\n",
       "      <td>1129</td>\n",
       "      <td>2.0</td>\n",
       "      <td>1260759185</td>\n",
       "    </tr>\n",
       "    <tr>\n",
       "      <th>4</th>\n",
       "      <td>1</td>\n",
       "      <td>1172</td>\n",
       "      <td>4.0</td>\n",
       "      <td>1260759205</td>\n",
       "    </tr>\n",
       "  </tbody>\n",
       "</table>\n",
       "</div>"
      ],
      "text/plain": [
       "   userId  movieId  rating   timestamp\n",
       "0       1       31     2.5  1260759144\n",
       "1       1     1029     3.0  1260759179\n",
       "2       1     1061     3.0  1260759182\n",
       "3       1     1129     2.0  1260759185\n",
       "4       1     1172     4.0  1260759205"
      ]
     },
     "execution_count": 7,
     "metadata": {},
     "output_type": "execute_result"
    }
   ],
   "source": [
    "ratings_df.nunique()\n",
    "ratings_df.head()"
   ]
  },
  {
   "cell_type": "code",
   "execution_count": 11,
   "metadata": {},
   "outputs": [],
   "source": [
    "reader = Reader(rating_scale=(0, 5))\n",
    "data = Dataset.load_from_df(ratings_df[['userId', 'movieId', 'rating']], reader)\n",
    "trainset = data.build_full_trainset()\n",
    "testset = trainset.build_anti_testset()"
   ]
  },
  {
   "cell_type": "code",
   "execution_count": null,
   "metadata": {
    "jupyter": {
     "outputs_hidden": true
    }
   },
   "outputs": [
    {
     "name": "stdout",
     "output_type": "stream",
     "text": [
      "Processing epoch 0\n",
      "Processing epoch 1\n",
      "Processing epoch 2\n",
      "Processing epoch 3\n",
      "Processing epoch 4\n",
      "Processing epoch 5\n",
      "Processing epoch 6\n",
      "Processing epoch 7\n",
      "Processing epoch 8\n",
      "Processing epoch 9\n",
      "Processing epoch 10\n",
      "Processing epoch 11\n",
      "Processing epoch 12\n",
      "Processing epoch 13\n",
      "Processing epoch 14\n",
      "Processing epoch 15\n",
      "Processing epoch 16\n",
      "Processing epoch 17\n",
      "Processing epoch 18\n",
      "Processing epoch 19\n"
     ]
    }
   ],
   "source": [
    "algo = SVD(verbose=True)\n",
    "algo.fit(trainset)\n",
    "\n",
    "cross_validate(algo, data, measures=['RMSE', 'MAE'], cv=5, n_jobs=-1, verbose=True)"
   ]
  },
  {
   "cell_type": "code",
   "execution_count": 9,
   "metadata": {},
   "outputs": [
    {
     "name": "stderr",
     "output_type": "stream",
     "text": [
      "/usr/local/lib/python3.7/site-packages/ipykernel_launcher.py:3: SettingWithCopyWarning: \n",
      "A value is trying to be set on a copy of a slice from a DataFrame.\n",
      "Try using .loc[row_indexer,col_indexer] = value instead\n",
      "\n",
      "See the caveats in the documentation: http://pandas.pydata.org/pandas-docs/stable/indexing.html#indexing-view-versus-copy\n",
      "  This is separate from the ipykernel package so we can avoid doing imports until\n"
     ]
    }
   ],
   "source": [
    "#for testing we separate the first user as new user and perform the new method of folding in\n",
    "new_ratings_df = ratings_df[ratings_df['userId'] == 1]\n",
    "new_ratings_df['userId'] = new_ratings_df['userId'].apply(lambda x : 672)\n",
    "ratings_df = pd.concat([ratings_df, new_ratings_df], ignore_index=True)"
   ]
  },
  {
   "cell_type": "code",
   "execution_count": 10,
   "metadata": {},
   "outputs": [
    {
     "ename": "NameError",
     "evalue": "name 'algo' is not defined",
     "output_type": "error",
     "traceback": [
      "\u001b[0;31m---------------------------------------------------------------------------\u001b[0m",
      "\u001b[0;31mNameError\u001b[0m                                 Traceback (most recent call last)",
      "\u001b[0;32m<ipython-input-10-e4b0e952bcc9>\u001b[0m in \u001b[0;36m<module>\u001b[0;34m\u001b[0m\n\u001b[0;32m----> 1\u001b[0;31m \u001b[0musers\u001b[0m \u001b[0;34m=\u001b[0m \u001b[0malgo\u001b[0m\u001b[0;34m.\u001b[0m\u001b[0mpu\u001b[0m\u001b[0;34m\u001b[0m\u001b[0;34m\u001b[0m\u001b[0m\n\u001b[0m\u001b[1;32m      2\u001b[0m \u001b[0mitems\u001b[0m \u001b[0;34m=\u001b[0m \u001b[0malgo\u001b[0m\u001b[0;34m.\u001b[0m\u001b[0mqi\u001b[0m\u001b[0;34m\u001b[0m\u001b[0;34m\u001b[0m\u001b[0m\n\u001b[1;32m      3\u001b[0m \u001b[0muser_bias\u001b[0m \u001b[0;34m=\u001b[0m \u001b[0malgo\u001b[0m\u001b[0;34m.\u001b[0m\u001b[0mbu\u001b[0m\u001b[0;34m\u001b[0m\u001b[0;34m\u001b[0m\u001b[0m\n\u001b[1;32m      4\u001b[0m \u001b[0mitem_bias\u001b[0m \u001b[0;34m=\u001b[0m \u001b[0malgo\u001b[0m\u001b[0;34m.\u001b[0m\u001b[0mbi\u001b[0m\u001b[0;34m\u001b[0m\u001b[0;34m\u001b[0m\u001b[0m\n\u001b[1;32m      5\u001b[0m \u001b[0;34m(\u001b[0m\u001b[0mtrainset\u001b[0m\u001b[0;34m.\u001b[0m\u001b[0mur\u001b[0m\u001b[0;34m)\u001b[0m\u001b[0;34m[\u001b[0m\u001b[0;36m671\u001b[0m\u001b[0;34m]\u001b[0m \u001b[0;34m=\u001b[0m \u001b[0;34m(\u001b[0m\u001b[0mtrainset\u001b[0m\u001b[0;34m.\u001b[0m\u001b[0mur\u001b[0m\u001b[0;34m)\u001b[0m\u001b[0;34m[\u001b[0m\u001b[0;36m0\u001b[0m\u001b[0;34m]\u001b[0m\u001b[0;34m\u001b[0m\u001b[0;34m\u001b[0m\u001b[0m\n",
      "\u001b[0;31mNameError\u001b[0m: name 'algo' is not defined"
     ]
    }
   ],
   "source": [
    "users = algo.pu\n",
    "items = algo.qi\n",
    "user_bias = algo.bu\n",
    "item_bias = algo.bi\n",
    "(trainset.ur)[671] = (trainset.ur)[0]\n",
    "trainset._raw2inner_id_users[672] = len(trainset._raw2inner_id_users)"
   ]
  },
  {
   "cell_type": "code",
   "execution_count": 87,
   "metadata": {},
   "outputs": [],
   "source": [
    "def create_new_user(ruid,items,item_bias, n_epochs) :\n",
    "    \n",
    "    init_mean=0\n",
    "    init_std_dev=.1\n",
    "    lr_all=.005\n",
    "    reg_all=.02\n",
    "    n_factors = 100\n",
    "    global_mean = trainset.global_mean\n",
    "    bu = 0\n",
    "    bi = item_bias\n",
    "    pu = np.random.mtrand._rand.normal(init_mean, init_std_dev,\n",
    "                    (n_factors))\n",
    "    qi = items\n",
    "\n",
    "    for current_epoch in range(n_epochs):\n",
    "        \n",
    "        #print(\"Processing epoch {}\".format(current_epoch))\n",
    "        u = trainset.to_inner_uid(ruid)\n",
    "        for i, r in trainset.ur[trainset.to_inner_uid(ruid)]:\n",
    "\n",
    "            # compute current error\n",
    "            dot = 0  # <q_i, p_u>\n",
    "            for f in range(n_factors):\n",
    "                dot += qi[i, f] * pu[f]\n",
    "            err = r - (global_mean + bu + bi[i] + dot)\n",
    "\n",
    "           \n",
    "            bu += lr_all * (err - reg_all * bu)\n",
    "            #bi[i] += lr_bi * (err - reg_bi * bi[i])\n",
    "\n",
    "            # update factors\n",
    "            for f in range(n_factors):\n",
    "                puf = pu[f]\n",
    "                qif = qi[i, f]\n",
    "                pu[f] += lr_all * (err * qif - reg_all * puf)\n",
    "                #qi[i, f] += lr_qi * (err * puf - reg_qi * qif)\n",
    "\n",
    "    return bu, pu"
   ]
  },
  {
   "cell_type": "code",
   "execution_count": 101,
   "metadata": {},
   "outputs": [],
   "source": [
    "bias, puser = create_new_user(672,items,item_bias, 20)"
   ]
  },
  {
   "cell_type": "code",
   "execution_count": 102,
   "metadata": {},
   "outputs": [
    {
     "data": {
      "text/plain": [
       "0.6702519497962203"
      ]
     },
     "execution_count": 102,
     "metadata": {},
     "output_type": "execute_result"
    }
   ],
   "source": [
    "#RMSE value for the new user\n",
    "s = 0\n",
    "count = 0\n",
    "for i, r in trainset.ur[trainset.to_inner_uid(672)]:\n",
    "\n",
    "    # compute current error\n",
    "    dot = 0  # <q_i, p_u>\n",
    "    #for f in range(100):\n",
    "    dot += items[i].dot(puser)\n",
    "    err = r - (trainset.global_mean + bias + item_bias[i] + dot)\n",
    "    s += err*err\n",
    "    count += 1\n",
    "rmse = (s/count)**0.5\n",
    "rmse"
   ]
  },
  {
   "cell_type": "code",
   "execution_count": 103,
   "metadata": {},
   "outputs": [
    {
     "data": {
      "text/plain": [
       "0.6749813518191998"
      ]
     },
     "execution_count": 103,
     "metadata": {},
     "output_type": "execute_result"
    }
   ],
   "source": [
    "#RMSE value for the first user predicted by the Surprise package\n",
    "s = 0\n",
    "count = 0\n",
    "for i, r in trainset.ur[trainset.to_inner_uid(1)]:\n",
    "\n",
    "    # compute current error\n",
    "    dot = 0  # <q_i, p_u>\n",
    "    #for f in range(100):\n",
    "    dot += items[i].dot(users[0])\n",
    "    err = r - (trainset.global_mean + user_bias[0] + item_bias[i] + dot)\n",
    "    s += err*err\n",
    "    count += 1\n",
    "rmse = (s/count)**0.5\n",
    "rmse"
   ]
  },
  {
   "cell_type": "code",
   "execution_count": 104,
   "metadata": {},
   "outputs": [
    {
     "data": {
      "text/plain": [
       "0.12772042694191502"
      ]
     },
     "execution_count": 104,
     "metadata": {},
     "output_type": "execute_result"
    }
   ],
   "source": [
    "#Comparing the 2 users \n",
    "# 1. predicted by us\n",
    "# 2. predicted by Surprise package\n",
    "sample = users[0]\n",
    "s = 0 \n",
    "for i in items :\n",
    "    diff = (i.dot(sample) + user_bias[0]) - (i.dot(puser) + bias)\n",
    "    s += diff*diff\n",
    "\n",
    "rmse = (s/len(items))**0.5\n",
    "rmse"
   ]
  },
  {
   "cell_type": "code",
   "execution_count": 99,
   "metadata": {},
   "outputs": [],
   "source": [
    "def estimate(users, items, user_bias, item_bias, u, i):\n",
    "    '''\n",
    "    gives the estimated ratings for user u \n",
    "    for the i movie\n",
    "    '''\n",
    "    u = trainset.to_inner_uid(u)\n",
    "    i = trainset.to_inner_iid(i)\n",
    "    est = trainset.global_mean\n",
    "    est += user_bias[u]\n",
    "    est += item_bias[i]\n",
    "    est += np.dot(items[i], users[u])\n",
    "    return est"
   ]
  },
  {
   "cell_type": "code",
   "execution_count": 105,
   "metadata": {},
   "outputs": [
    {
     "name": "stdout",
     "output_type": "stream",
     "text": [
      "2.9750578193593684 2.8755019498155256\n",
      "2.472489202302553 2.432414511006186\n",
      "2.2955376068848983 2.6089077503127363\n",
      "1.9374403693587554 2.0732469625934957\n",
      "2.5126905672950173 2.299663539364208\n",
      "3.1074249307293758 3.0754382927691566\n",
      "2.566600302266024 2.4449387264671394\n",
      "2.6448106113355956 2.705356842972059\n",
      "2.2556052110640956 2.2843204329086246\n",
      "2.5589962256065197 2.548677017108624\n"
     ]
    }
   ],
   "source": [
    "for i in range(10) :\n",
    "    dot = 0\n",
    "    dot += items[trainset.to_inner_iid(i+1)].dot(puser)\n",
    "    pred = trainset.global_mean + bias + item_bias[trainset.to_inner_iid(i+1)] + dot\n",
    "    print(estimate(users, items, user_bias, item_bias, 1, i+1), pred)"
   ]
  },
  {
   "cell_type": "code",
   "execution_count": 34,
   "metadata": {
    "collapsed": true,
    "jupyter": {
     "outputs_hidden": true
    }
   },
   "outputs": [
    {
     "ename": "NameError",
     "evalue": "name 'predicitons' is not defined",
     "output_type": "error",
     "traceback": [
      "\u001b[0;31m---------------------------------------------------------------------------\u001b[0m",
      "\u001b[0;31mNameError\u001b[0m                                 Traceback (most recent call last)",
      "\u001b[0;32m<ipython-input-34-025b8804723e>\u001b[0m in \u001b[0;36m<module>\u001b[0;34m\u001b[0m\n\u001b[1;32m      1\u001b[0m \u001b[0mpredictions\u001b[0m \u001b[0;34m=\u001b[0m \u001b[0malgo\u001b[0m\u001b[0;34m.\u001b[0m\u001b[0mtest\u001b[0m\u001b[0;34m(\u001b[0m\u001b[0mtestset\u001b[0m\u001b[0;34m)\u001b[0m\u001b[0;34m\u001b[0m\u001b[0m\n\u001b[0;32m----> 2\u001b[0;31m \u001b[0mpredicitons\u001b[0m\u001b[0;34m.\u001b[0m\u001b[0mhead\u001b[0m\u001b[0;34m(\u001b[0m\u001b[0;34m)\u001b[0m\u001b[0;34m\u001b[0m\u001b[0m\n\u001b[0m",
      "\u001b[0;31mNameError\u001b[0m: name 'predicitons' is not defined"
     ]
    }
   ],
   "source": [
    "predictions = algo.test(testset)\n"
   ]
  },
  {
   "cell_type": "code",
   "execution_count": 36,
   "metadata": {},
   "outputs": [
    {
     "data": {
      "text/plain": [
       "[Prediction(uid=1, iid=10, r_ui=3.543608255669773, est=2.583825142683057, details={'was_impossible': False}),\n",
       " Prediction(uid=1, iid=17, r_ui=3.543608255669773, est=3.3001508729281652, details={'was_impossible': False}),\n",
       " Prediction(uid=1, iid=39, r_ui=3.543608255669773, est=2.6397472673265545, details={'was_impossible': False}),\n",
       " Prediction(uid=1, iid=47, r_ui=3.543608255669773, est=3.124481506629175, details={'was_impossible': False}),\n",
       " Prediction(uid=1, iid=50, r_ui=3.543608255669773, est=3.5812670200280556, details={'was_impossible': False})]"
      ]
     },
     "execution_count": 36,
     "metadata": {},
     "output_type": "execute_result"
    }
   ],
   "source": [
    "predictions[:5]"
   ]
  },
  {
   "cell_type": "markdown",
   "metadata": {},
   "source": [
    "# Performing the normal sparse SVD and folding in as discussed in the research paper"
   ]
  },
  {
   "cell_type": "code",
   "execution_count": 26,
   "metadata": {},
   "outputs": [],
   "source": [
    "# The required matrix but in df form. index is userid and columns are the movieids\n",
    "# to use it as a matrix use utility_df.values\n",
    "\n",
    "utility_df = ratings_df.pivot(\n",
    "    index='userId',\n",
    "    columns='movieId',\n",
    "    values='rating'\n",
    ").fillna(0)#.T.fillna(utility_df.mean(axis=1)).T\n",
    "\n",
    "# R = utility_df.values\n",
    "# user_ratings_mean = np.mean(R, axis = 1)\n",
    "# R_demeaned = R - user_ratings_mean.reshape(-1, 1)\n",
    "# utility_df = pd.DataFrame(R_demeaned, columns = utility_df.columns)\n",
    "# utility_df = utility_df.fillna(0)"
   ]
  },
  {
   "cell_type": "code",
   "execution_count": 44,
   "metadata": {},
   "outputs": [
    {
     "data": {
      "text/plain": [
       "0.0"
      ]
     },
     "execution_count": 44,
     "metadata": {},
     "output_type": "execute_result"
    }
   ],
   "source": [
    "utility_df.values[1][39]"
   ]
  },
  {
   "cell_type": "code",
   "execution_count": 47,
   "metadata": {},
   "outputs": [
    {
     "data": {
      "text/plain": [
       "-0.05936992174582546"
      ]
     },
     "execution_count": 47,
     "metadata": {},
     "output_type": "execute_result"
    }
   ],
   "source": [
    "utility_mat[1][17]"
   ]
  },
  {
   "cell_type": "code",
   "execution_count": 311,
   "metadata": {},
   "outputs": [
    {
     "data": {
      "text/plain": [
       "(670, 9066)"
      ]
     },
     "execution_count": 311,
     "metadata": {},
     "output_type": "execute_result"
    }
   ],
   "source": [
    "utility_df = utility_df[:-1]\n",
    "utility_df.shape"
   ]
  },
  {
   "cell_type": "code",
   "execution_count": 217,
   "metadata": {},
   "outputs": [],
   "source": [
    "#userid - 1 will be the first index and movieid -1 will be the second index\n",
    "new_user = (utility_df.values)[670]"
   ]
  },
  {
   "cell_type": "code",
   "execution_count": 323,
   "metadata": {},
   "outputs": [],
   "source": [
    "R = sparse.csc_matrix(utility_df.values,dtype=float)"
   ]
  },
  {
   "cell_type": "code",
   "execution_count": 327,
   "metadata": {},
   "outputs": [],
   "source": [
    "#perform SVD\n",
    "U, Sigma, VT = randomized_svd(R,n_components=300,n_iter=5,random_state=None)\n",
    "#U, Sigma, VT = svds(R, k=50)"
   ]
  },
  {
   "cell_type": "code",
   "execution_count": 328,
   "metadata": {},
   "outputs": [],
   "source": [
    "#u,s,vt = svds(R_demeaned, k = 50)\n",
    "\n",
    "#all_user_predicted_ratings = u.dot(np.diag(s).dot(vt))"
   ]
  },
  {
   "cell_type": "code",
   "execution_count": 329,
   "metadata": {},
   "outputs": [],
   "source": [
    "all_user_predicted_ratings = U.dot(np.diag(Sigma).dot(VT))"
   ]
  },
  {
   "cell_type": "code",
   "execution_count": 330,
   "metadata": {},
   "outputs": [
    {
     "data": {
      "text/plain": [
       "3.0236492268034794"
      ]
     },
     "execution_count": 330,
     "metadata": {},
     "output_type": "execute_result"
    }
   ],
   "source": [
    "all_user_predicted_ratings[320][0]"
   ]
  },
  {
   "cell_type": "code",
   "execution_count": 331,
   "metadata": {},
   "outputs": [
    {
     "data": {
      "text/plain": [
       "(671, 9066)"
      ]
     },
     "execution_count": 331,
     "metadata": {},
     "output_type": "execute_result"
    }
   ],
   "source": [
    "#convert the matrix to df same as our utility_df but this one is preds_df\n",
    "preds_df = pd.DataFrame(all_user_predicted_ratings, columns = utility_df.columns)\n",
    "preds_df.shape"
   ]
  },
  {
   "cell_type": "code",
   "execution_count": 332,
   "metadata": {},
   "outputs": [
    {
     "data": {
      "text/html": [
       "<div>\n",
       "<style scoped>\n",
       "    .dataframe tbody tr th:only-of-type {\n",
       "        vertical-align: middle;\n",
       "    }\n",
       "\n",
       "    .dataframe tbody tr th {\n",
       "        vertical-align: top;\n",
       "    }\n",
       "\n",
       "    .dataframe thead th {\n",
       "        text-align: right;\n",
       "    }\n",
       "</style>\n",
       "<table border=\"1\" class=\"dataframe\">\n",
       "  <thead>\n",
       "    <tr style=\"text-align: right;\">\n",
       "      <th>movieId</th>\n",
       "      <th>1</th>\n",
       "      <th>2</th>\n",
       "      <th>3</th>\n",
       "      <th>4</th>\n",
       "      <th>5</th>\n",
       "      <th>6</th>\n",
       "      <th>7</th>\n",
       "      <th>8</th>\n",
       "      <th>9</th>\n",
       "      <th>10</th>\n",
       "      <th>...</th>\n",
       "      <th>161084</th>\n",
       "      <th>161155</th>\n",
       "      <th>161594</th>\n",
       "      <th>161830</th>\n",
       "      <th>161918</th>\n",
       "      <th>161944</th>\n",
       "      <th>162376</th>\n",
       "      <th>162542</th>\n",
       "      <th>162672</th>\n",
       "      <th>163949</th>\n",
       "    </tr>\n",
       "  </thead>\n",
       "  <tbody>\n",
       "    <tr>\n",
       "      <th>0</th>\n",
       "      <td>-0.059185</td>\n",
       "      <td>-0.014793</td>\n",
       "      <td>0.079709</td>\n",
       "      <td>0.015210</td>\n",
       "      <td>-0.006548</td>\n",
       "      <td>0.083757</td>\n",
       "      <td>-0.005198</td>\n",
       "      <td>-0.034477</td>\n",
       "      <td>0.084171</td>\n",
       "      <td>0.068655</td>\n",
       "      <td>...</td>\n",
       "      <td>-0.002105</td>\n",
       "      <td>0.000191</td>\n",
       "      <td>0.014952</td>\n",
       "      <td>0.000033</td>\n",
       "      <td>0.000049</td>\n",
       "      <td>0.012873</td>\n",
       "      <td>0.022428</td>\n",
       "      <td>0.018057</td>\n",
       "      <td>0.010834</td>\n",
       "      <td>-0.004210</td>\n",
       "    </tr>\n",
       "    <tr>\n",
       "      <th>1</th>\n",
       "      <td>0.088541</td>\n",
       "      <td>0.533357</td>\n",
       "      <td>-0.221907</td>\n",
       "      <td>0.157336</td>\n",
       "      <td>0.071208</td>\n",
       "      <td>-0.393328</td>\n",
       "      <td>-0.123973</td>\n",
       "      <td>-0.022313</td>\n",
       "      <td>-0.093150</td>\n",
       "      <td>2.919186</td>\n",
       "      <td>...</td>\n",
       "      <td>-0.002066</td>\n",
       "      <td>0.001901</td>\n",
       "      <td>-0.005194</td>\n",
       "      <td>0.003754</td>\n",
       "      <td>0.005632</td>\n",
       "      <td>-0.012864</td>\n",
       "      <td>-0.007791</td>\n",
       "      <td>-0.024718</td>\n",
       "      <td>-0.014831</td>\n",
       "      <td>-0.004133</td>\n",
       "    </tr>\n",
       "    <tr>\n",
       "      <th>2</th>\n",
       "      <td>0.149916</td>\n",
       "      <td>0.142651</td>\n",
       "      <td>-0.286490</td>\n",
       "      <td>-0.041239</td>\n",
       "      <td>-0.020950</td>\n",
       "      <td>-0.064682</td>\n",
       "      <td>-0.180242</td>\n",
       "      <td>0.151253</td>\n",
       "      <td>0.180552</td>\n",
       "      <td>-0.044916</td>\n",
       "      <td>...</td>\n",
       "      <td>-0.005369</td>\n",
       "      <td>-0.001261</td>\n",
       "      <td>-0.006647</td>\n",
       "      <td>0.004244</td>\n",
       "      <td>0.006366</td>\n",
       "      <td>0.031325</td>\n",
       "      <td>-0.009971</td>\n",
       "      <td>0.026513</td>\n",
       "      <td>0.015908</td>\n",
       "      <td>-0.010737</td>\n",
       "    </tr>\n",
       "    <tr>\n",
       "      <th>3</th>\n",
       "      <td>-0.156537</td>\n",
       "      <td>0.089854</td>\n",
       "      <td>-0.155541</td>\n",
       "      <td>-0.086598</td>\n",
       "      <td>-0.173313</td>\n",
       "      <td>0.051530</td>\n",
       "      <td>-0.053802</td>\n",
       "      <td>-0.012273</td>\n",
       "      <td>-0.153094</td>\n",
       "      <td>4.409769</td>\n",
       "      <td>...</td>\n",
       "      <td>-0.000659</td>\n",
       "      <td>-0.000800</td>\n",
       "      <td>0.004366</td>\n",
       "      <td>-0.000240</td>\n",
       "      <td>-0.000360</td>\n",
       "      <td>-0.007977</td>\n",
       "      <td>0.006550</td>\n",
       "      <td>0.007178</td>\n",
       "      <td>0.004307</td>\n",
       "      <td>-0.001318</td>\n",
       "    </tr>\n",
       "    <tr>\n",
       "      <th>4</th>\n",
       "      <td>-0.241869</td>\n",
       "      <td>0.718017</td>\n",
       "      <td>3.468791</td>\n",
       "      <td>0.001517</td>\n",
       "      <td>-0.288426</td>\n",
       "      <td>-0.436644</td>\n",
       "      <td>0.101569</td>\n",
       "      <td>-0.047121</td>\n",
       "      <td>-0.208962</td>\n",
       "      <td>-0.157794</td>\n",
       "      <td>...</td>\n",
       "      <td>0.002972</td>\n",
       "      <td>-0.002046</td>\n",
       "      <td>0.010542</td>\n",
       "      <td>0.000938</td>\n",
       "      <td>0.001408</td>\n",
       "      <td>0.002627</td>\n",
       "      <td>0.015813</td>\n",
       "      <td>0.061654</td>\n",
       "      <td>0.036992</td>\n",
       "      <td>0.005943</td>\n",
       "    </tr>\n",
       "  </tbody>\n",
       "</table>\n",
       "<p>5 rows × 9066 columns</p>\n",
       "</div>"
      ],
      "text/plain": [
       "movieId    1         2         3         4         5         6         7       \\\n",
       "0       -0.059185 -0.014793  0.079709  0.015210 -0.006548  0.083757 -0.005198   \n",
       "1        0.088541  0.533357 -0.221907  0.157336  0.071208 -0.393328 -0.123973   \n",
       "2        0.149916  0.142651 -0.286490 -0.041239 -0.020950 -0.064682 -0.180242   \n",
       "3       -0.156537  0.089854 -0.155541 -0.086598 -0.173313  0.051530 -0.053802   \n",
       "4       -0.241869  0.718017  3.468791  0.001517 -0.288426 -0.436644  0.101569   \n",
       "\n",
       "movieId    8         9         10      ...    161084    161155    161594  \\\n",
       "0       -0.034477  0.084171  0.068655  ... -0.002105  0.000191  0.014952   \n",
       "1       -0.022313 -0.093150  2.919186  ... -0.002066  0.001901 -0.005194   \n",
       "2        0.151253  0.180552 -0.044916  ... -0.005369 -0.001261 -0.006647   \n",
       "3       -0.012273 -0.153094  4.409769  ... -0.000659 -0.000800  0.004366   \n",
       "4       -0.047121 -0.208962 -0.157794  ...  0.002972 -0.002046  0.010542   \n",
       "\n",
       "movieId    161830    161918    161944    162376    162542    162672    163949  \n",
       "0        0.000033  0.000049  0.012873  0.022428  0.018057  0.010834 -0.004210  \n",
       "1        0.003754  0.005632 -0.012864 -0.007791 -0.024718 -0.014831 -0.004133  \n",
       "2        0.004244  0.006366  0.031325 -0.009971  0.026513  0.015908 -0.010737  \n",
       "3       -0.000240 -0.000360 -0.007977  0.006550  0.007178  0.004307 -0.001318  \n",
       "4        0.000938  0.001408  0.002627  0.015813  0.061654  0.036992  0.005943  \n",
       "\n",
       "[5 rows x 9066 columns]"
      ]
     },
     "execution_count": 332,
     "metadata": {},
     "output_type": "execute_result"
    }
   ],
   "source": [
    "preds_df.head()"
   ]
  },
  {
   "cell_type": "markdown",
   "metadata": {},
   "source": [
    "# Completed the Collaborative Filtering part now lets Recommend"
   ]
  },
  {
   "cell_type": "code",
   "execution_count": 206,
   "metadata": {},
   "outputs": [],
   "source": [
    "def get_viewed_movies(userId) :\n",
    "    ''' \n",
    "    aggregate all movies that the user watched \n",
    "    input : userid\n",
    "    output : a list of movie ids that the user has already rated\n",
    "    '''\n",
    "    \n",
    "    users_viewed_movies = ratings_df[ratings_df['userId'] == userId].sort_values(['rating'], ascending=False)\n",
    "    \n",
    "    \n",
    "    #print(str(userId) +  \" has viewed following films\")\n",
    "    \n",
    "    #r = movies_df.merge(users_viewed_movies, left_on='id', right_on='movieId').sort_values(['rating'],ascending=False)\n",
    "    \n",
    "#     for row in users_viewed_movies.itertuples():\n",
    "#         rating = row[1]\n",
    "#         print(str(row[3]) + \" \" + str(row[2]) + '\\t' + str(rating))\n",
    "#    print(r.head())\n",
    "    return users_viewed_movies['movieId'].tolist()"
   ]
  },
  {
   "cell_type": "code",
   "execution_count": 167,
   "metadata": {},
   "outputs": [
    {
     "name": "stdout",
     "output_type": "stream",
     "text": [
      "True\n"
     ]
    }
   ],
   "source": [
    "p = get_viewed_movies(321)\n",
    "print(232 in p)\n",
    "#ratings_df[ratings_df['userId'] == 321]"
   ]
  },
  {
   "cell_type": "code",
   "execution_count": 207,
   "metadata": {},
   "outputs": [],
   "source": [
    "def recommend_movies(preds_df, userID, movies_df, original_ratings_df, num_recommendations=5):\n",
    "    \n",
    "    # Get and sort the user's predictions\n",
    "    \n",
    "    # UserID starts at 1, not 0\n",
    "    user_row_number = userID - 1 \n",
    "    \n",
    "    sorted_user_predictions = preds_df.iloc[user_row_number].sort_values(ascending=False)\n",
    "    print(sorted_user_predictions.head())\n",
    "    \n",
    "    # Get the user's data and merge in the movie information.\n",
    "    viewed_movieids = get_viewed_movies(userID)\n",
    "               \n",
    "    all_movieids = sorted_user_predictions.index.values.tolist()\n",
    "    predicted_movieids = [value for value in all_movieids if value not in viewed_movieids]\n",
    "    #print(type(predicted_movieids))\n",
    "    recommendations = movies_df[movies_df['id'].isin(predicted_movieids)]\n",
    "    recommendations = recommendations.merge(sorted_user_predictions, left_on='id', right_index=True).sort_values([userID-1],ascending=False)\n",
    "    return predicted_movieids,recommendations"
   ]
  },
  {
   "cell_type": "code",
   "execution_count": 333,
   "metadata": {},
   "outputs": [
    {
     "name": "stdout",
     "output_type": "stream",
     "text": [
      "movieId\n",
      "21      5.338008\n",
      "296     5.147531\n",
      "551     4.864173\n",
      "913     4.705847\n",
      "2396    4.704830\n",
      "Name: 320, dtype: float64\n",
      "False\n"
     ]
    },
    {
     "data": {
      "text/html": [
       "<div>\n",
       "<style scoped>\n",
       "    .dataframe tbody tr th:only-of-type {\n",
       "        vertical-align: middle;\n",
       "    }\n",
       "\n",
       "    .dataframe tbody tr th {\n",
       "        vertical-align: top;\n",
       "    }\n",
       "\n",
       "    .dataframe thead th {\n",
       "        text-align: right;\n",
       "    }\n",
       "</style>\n",
       "<table border=\"1\" class=\"dataframe\">\n",
       "  <thead>\n",
       "    <tr style=\"text-align: right;\">\n",
       "      <th></th>\n",
       "      <th>budget</th>\n",
       "      <th>genres</th>\n",
       "      <th>id</th>\n",
       "      <th>original_title</th>\n",
       "      <th>spoken_languages</th>\n",
       "      <th>title</th>\n",
       "      <th>movieId</th>\n",
       "      <th>320</th>\n",
       "    </tr>\n",
       "  </thead>\n",
       "  <tbody>\n",
       "    <tr>\n",
       "      <th>3823</th>\n",
       "      <td>55000000</td>\n",
       "      <td>[{'id': 35, 'name': 'Comedy'}, {'id': 10749, '...</td>\n",
       "      <td>1597</td>\n",
       "      <td>Meet the Parents</td>\n",
       "      <td>[{'iso_639_1': 'en', 'name': 'English'}]</td>\n",
       "      <td>Meet the Parents</td>\n",
       "      <td>1597</td>\n",
       "      <td>0.794845</td>\n",
       "    </tr>\n",
       "    <tr>\n",
       "      <th>7823</th>\n",
       "      <td>0</td>\n",
       "      <td>[{'id': 27, 'name': 'Horror'}, {'id': 878, 'na...</td>\n",
       "      <td>3019</td>\n",
       "      <td>Dr. Jekyll and Mr. Hyde</td>\n",
       "      <td>[{'iso_639_1': 'en', 'name': 'English'}]</td>\n",
       "      <td>Dr. Jekyll and Mr. Hyde</td>\n",
       "      <td>3019</td>\n",
       "      <td>0.788030</td>\n",
       "    </tr>\n",
       "    <tr>\n",
       "      <th>1578</th>\n",
       "      <td>0</td>\n",
       "      <td>[{'id': 18, 'name': 'Drama'}, {'id': 10749, 'n...</td>\n",
       "      <td>1959</td>\n",
       "      <td>Swept from the Sea</td>\n",
       "      <td>[{'iso_639_1': 'en', 'name': 'English'}]</td>\n",
       "      <td>Swept from the Sea</td>\n",
       "      <td>1959</td>\n",
       "      <td>0.779274</td>\n",
       "    </tr>\n",
       "    <tr>\n",
       "      <th>3245</th>\n",
       "      <td>777000</td>\n",
       "      <td>[{'id': 35, 'name': 'Comedy'}, {'id': 18, 'nam...</td>\n",
       "      <td>838</td>\n",
       "      <td>American Graffiti</td>\n",
       "      <td>[{'iso_639_1': 'en', 'name': 'English'}]</td>\n",
       "      <td>American Graffiti</td>\n",
       "      <td>838</td>\n",
       "      <td>0.755256</td>\n",
       "    </tr>\n",
       "    <tr>\n",
       "      <th>6141</th>\n",
       "      <td>0</td>\n",
       "      <td>[{'id': 80, 'name': 'Crime'}, {'id': 18, 'name...</td>\n",
       "      <td>6016</td>\n",
       "      <td>The Good Thief</td>\n",
       "      <td>[{'iso_639_1': 'en', 'name': 'English'}]</td>\n",
       "      <td>The Good Thief</td>\n",
       "      <td>6016</td>\n",
       "      <td>0.741755</td>\n",
       "    </tr>\n",
       "  </tbody>\n",
       "</table>\n",
       "</div>"
      ],
      "text/plain": [
       "        budget                                             genres    id  \\\n",
       "3823  55000000  [{'id': 35, 'name': 'Comedy'}, {'id': 10749, '...  1597   \n",
       "7823         0  [{'id': 27, 'name': 'Horror'}, {'id': 878, 'na...  3019   \n",
       "1578         0  [{'id': 18, 'name': 'Drama'}, {'id': 10749, 'n...  1959   \n",
       "3245    777000  [{'id': 35, 'name': 'Comedy'}, {'id': 18, 'nam...   838   \n",
       "6141         0  [{'id': 80, 'name': 'Crime'}, {'id': 18, 'name...  6016   \n",
       "\n",
       "               original_title                          spoken_languages  \\\n",
       "3823         Meet the Parents  [{'iso_639_1': 'en', 'name': 'English'}]   \n",
       "7823  Dr. Jekyll and Mr. Hyde  [{'iso_639_1': 'en', 'name': 'English'}]   \n",
       "1578       Swept from the Sea  [{'iso_639_1': 'en', 'name': 'English'}]   \n",
       "3245        American Graffiti  [{'iso_639_1': 'en', 'name': 'English'}]   \n",
       "6141           The Good Thief  [{'iso_639_1': 'en', 'name': 'English'}]   \n",
       "\n",
       "                        title  movieId       320  \n",
       "3823         Meet the Parents     1597  0.794845  \n",
       "7823  Dr. Jekyll and Mr. Hyde     3019  0.788030  \n",
       "1578       Swept from the Sea     1959  0.779274  \n",
       "3245        American Graffiti      838  0.755256  \n",
       "6141           The Good Thief     6016  0.741755  "
      ]
     },
     "execution_count": 333,
     "metadata": {},
     "output_type": "execute_result"
    }
   ],
   "source": [
    "pm , predictions = recommend_movies(preds_df, 321, movies_df,ratings_df, 10)\n",
    "print(319 in pm)\n",
    "predictions.head()"
   ]
  },
  {
   "cell_type": "code",
   "execution_count": 116,
   "metadata": {},
   "outputs": [
    {
     "data": {
      "text/plain": [
       "(9066,)"
      ]
     },
     "execution_count": 116,
     "metadata": {},
     "output_type": "execute_result"
    }
   ],
   "source": [
    "new_user = (utility_df.values)[670]\n",
    "new_user.shape"
   ]
  },
  {
   "cell_type": "code",
   "execution_count": 128,
   "metadata": {},
   "outputs": [],
   "source": [
    "def add_new_user_to_collab(new_user,U,Sigma,VT,all_user_predicted_ratings) :\n",
    "    \n",
    "    #sparse matrix -> U.Sigma.VT\n",
    "    #q = sparse_user. V. Sigma^-1\n",
    "    q = new_user.dot(VT.transpose().dot(np.linalg.inv(np.diag(Sigma))))\n",
    "    \n",
    "    U = np.append(U,[q],axis=0)\n",
    "    \n",
    "    new = q.dot(np.diag(Sigma).dot(VT))\n",
    "    all_user_predicted_ratings = np.append(all_user_predicted_ratings,[new],axis=0) \n",
    "    preds_df = pd.DataFrame(all_user_predicted_ratings, columns = utility_df.columns)\n",
    "    print(preds_df.shape)\n",
    "    return U, all_user_predicted_ratings, preds_df"
   ]
  },
  {
   "cell_type": "code",
   "execution_count": 225,
   "metadata": {},
   "outputs": [
    {
     "name": "stdout",
     "output_type": "stream",
     "text": [
      "(671, 9066)\n"
     ]
    }
   ],
   "source": [
    "U, all_user_predicted_ratings, preds_df = add_new_user_to_collab(new_user,U,Sigma,VT,all_user_predicted_ratings)"
   ]
  },
  {
   "cell_type": "code",
   "execution_count": 229,
   "metadata": {},
   "outputs": [
    {
     "name": "stdout",
     "output_type": "stream",
     "text": [
      "False\n",
      "True\n"
     ]
    },
    {
     "data": {
      "text/plain": [
       "-0.15975394960516634"
      ]
     },
     "execution_count": 229,
     "metadata": {},
     "output_type": "execute_result"
    }
   ],
   "source": [
    "p = get_viewed_movies(671)\n",
    "print(1 in pm)\n",
    "print(1 in p)\n",
    "preds_df[671][]"
   ]
  },
  {
   "cell_type": "code",
   "execution_count": 177,
   "metadata": {},
   "outputs": [
    {
     "name": "stdout",
     "output_type": "stream",
     "text": [
      "movieId\n",
      "1136    5.159708\n",
      "551     5.125028\n",
      "5952    5.070815\n",
      "2291    5.067528\n",
      "589     5.054715\n",
      "Name: 670, dtype: float64\n",
      "False\n"
     ]
    },
    {
     "data": {
      "text/html": [
       "<div>\n",
       "<style scoped>\n",
       "    .dataframe tbody tr th:only-of-type {\n",
       "        vertical-align: middle;\n",
       "    }\n",
       "\n",
       "    .dataframe tbody tr th {\n",
       "        vertical-align: top;\n",
       "    }\n",
       "\n",
       "    .dataframe thead th {\n",
       "        text-align: right;\n",
       "    }\n",
       "</style>\n",
       "<table border=\"1\" class=\"dataframe\">\n",
       "  <thead>\n",
       "    <tr style=\"text-align: right;\">\n",
       "      <th></th>\n",
       "      <th>budget</th>\n",
       "      <th>genres</th>\n",
       "      <th>id</th>\n",
       "      <th>original_title</th>\n",
       "      <th>spoken_languages</th>\n",
       "      <th>title</th>\n",
       "      <th>movieId</th>\n",
       "      <th>670</th>\n",
       "    </tr>\n",
       "  </thead>\n",
       "  <tbody>\n",
       "    <tr>\n",
       "      <th>10785</th>\n",
       "      <td>0</td>\n",
       "      <td>[{'id': 18, 'name': 'Drama'}, {'id': 35, 'name...</td>\n",
       "      <td>1544</td>\n",
       "      <td>Imagine Me &amp; You</td>\n",
       "      <td>[{'iso_639_1': 'en', 'name': 'English'}]</td>\n",
       "      <td>Imagine Me &amp; You</td>\n",
       "      <td>1544</td>\n",
       "      <td>0.276112</td>\n",
       "    </tr>\n",
       "    <tr>\n",
       "      <th>17</th>\n",
       "      <td>4000000</td>\n",
       "      <td>[{'id': 80, 'name': 'Crime'}, {'id': 35, 'name...</td>\n",
       "      <td>5</td>\n",
       "      <td>Four Rooms</td>\n",
       "      <td>[{'iso_639_1': 'en', 'name': 'English'}]</td>\n",
       "      <td>Four Rooms</td>\n",
       "      <td>5</td>\n",
       "      <td>0.195217</td>\n",
       "    </tr>\n",
       "    <tr>\n",
       "      <th>1578</th>\n",
       "      <td>0</td>\n",
       "      <td>[{'id': 18, 'name': 'Drama'}, {'id': 10749, 'n...</td>\n",
       "      <td>1959</td>\n",
       "      <td>Swept from the Sea</td>\n",
       "      <td>[{'iso_639_1': 'en', 'name': 'English'}]</td>\n",
       "      <td>Swept from the Sea</td>\n",
       "      <td>1959</td>\n",
       "      <td>0.193697</td>\n",
       "    </tr>\n",
       "    <tr>\n",
       "      <th>385</th>\n",
       "      <td>45000</td>\n",
       "      <td>[{'id': 28, 'name': 'Action'}, {'id': 80, 'nam...</td>\n",
       "      <td>315</td>\n",
       "      <td>Faster, Pussycat! Kill! Kill!</td>\n",
       "      <td>[{'iso_639_1': 'en', 'name': 'English'}]</td>\n",
       "      <td>Faster, Pussycat! Kill! Kill!</td>\n",
       "      <td>315</td>\n",
       "      <td>0.186071</td>\n",
       "    </tr>\n",
       "    <tr>\n",
       "      <th>1167</th>\n",
       "      <td>32350000</td>\n",
       "      <td>[{'id': 12, 'name': 'Adventure'}, {'id': 28, '...</td>\n",
       "      <td>1892</td>\n",
       "      <td>Return of the Jedi</td>\n",
       "      <td>[{'iso_639_1': 'en', 'name': 'English'}]</td>\n",
       "      <td>Return of the Jedi</td>\n",
       "      <td>1892</td>\n",
       "      <td>0.184441</td>\n",
       "    </tr>\n",
       "  </tbody>\n",
       "</table>\n",
       "</div>"
      ],
      "text/plain": [
       "         budget                                             genres    id  \\\n",
       "10785         0  [{'id': 18, 'name': 'Drama'}, {'id': 35, 'name...  1544   \n",
       "17      4000000  [{'id': 80, 'name': 'Crime'}, {'id': 35, 'name...     5   \n",
       "1578          0  [{'id': 18, 'name': 'Drama'}, {'id': 10749, 'n...  1959   \n",
       "385       45000  [{'id': 28, 'name': 'Action'}, {'id': 80, 'nam...   315   \n",
       "1167   32350000  [{'id': 12, 'name': 'Adventure'}, {'id': 28, '...  1892   \n",
       "\n",
       "                      original_title  \\\n",
       "10785               Imagine Me & You   \n",
       "17                        Four Rooms   \n",
       "1578              Swept from the Sea   \n",
       "385    Faster, Pussycat! Kill! Kill!   \n",
       "1167              Return of the Jedi   \n",
       "\n",
       "                               spoken_languages  \\\n",
       "10785  [{'iso_639_1': 'en', 'name': 'English'}]   \n",
       "17     [{'iso_639_1': 'en', 'name': 'English'}]   \n",
       "1578   [{'iso_639_1': 'en', 'name': 'English'}]   \n",
       "385    [{'iso_639_1': 'en', 'name': 'English'}]   \n",
       "1167   [{'iso_639_1': 'en', 'name': 'English'}]   \n",
       "\n",
       "                               title  movieId       670  \n",
       "10785               Imagine Me & You     1544  0.276112  \n",
       "17                        Four Rooms        5  0.195217  \n",
       "1578              Swept from the Sea     1959  0.193697  \n",
       "385    Faster, Pussycat! Kill! Kill!      315  0.186071  \n",
       "1167              Return of the Jedi     1892  0.184441  "
      ]
     },
     "execution_count": 177,
     "metadata": {},
     "output_type": "execute_result"
    }
   ],
   "source": [
    "\n",
    "pm , predictions = recommend_movies(preds_df, 671, movies_df,ratings_df, 10)\n",
    "print(1136 in pm)\n",
    "predictions.head()"
   ]
  },
  {
   "cell_type": "code",
   "execution_count": 173,
   "metadata": {},
   "outputs": [],
   "source": [
    "#TODO : \n",
    "#add new ratings to rating_df\n",
    "#implement the new item version\n",
    "#create python scripts"
   ]
  }
 ],
 "metadata": {
  "kernelspec": {
   "display_name": "Python 3",
   "language": "python",
   "name": "python3"
  },
  "language_info": {
   "codemirror_mode": {
    "name": "ipython",
    "version": 3
   },
   "file_extension": ".py",
   "mimetype": "text/x-python",
   "name": "python",
   "nbconvert_exporter": "python",
   "pygments_lexer": "ipython3",
   "version": "3.7.4"
  }
 },
 "nbformat": 4,
 "nbformat_minor": 4
}
